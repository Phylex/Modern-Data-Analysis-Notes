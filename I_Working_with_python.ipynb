{
 "cells": [
  {
   "cell_type": "markdown",
   "metadata": {},
   "source": [
    "# Modern Methods of Data Analysis Apendix I:\n",
    "## Working with Python\n",
    "\n",
    "Throughout this course I will be using python to calculate examples and make the topic more interactively. This means however, that you will need to learn a bit of python if you have not allready encountered it. I want this course to be about statistics **with** Python so I have decided not to let my code quality slip to make the code more ledgable to the python beginner. There are plenty of resources out there that can explain all topics python. I encourage to go look them up when you are not sure about code you see in these documents. I would also encourage you to play around with the code as it is there and you can modify and run it and immediately see what happens.\n",
    "A few recources to get you started (remember a jupyther notebook is not python)\n",
    "* https://docs.python.org/3/ (look at the tutorial, it may be a bit theoretical but it covers all aspects of the basic language)\n",
    "* https://www.python-course.eu/ (The tutorials here range fairly wide and are of a medium to good quality)\n",
    "\n",
    "As is common in the scientific community that I have been a part of so far three libraries have come up over and over again.\n",
    "\n",
    "* [numpy](https://numpy.org) handles vector math and linear algebra efficiently\n",
    "* [matplotlib](https://matplotlib.org) is used for Plotting and graphing of all varieties)\n",
    "* [scipy](https://scipy.org) Special functions (PDFs polynomials, spherical harmonics and so on) and algorithms for seminumerical problems such as minimisation and opitmisation\n",
    "\n",
    "\n",
    "All come courtesy of Enthought software company. All are of course open source and highly sophisticated and well documented and maintained. Without these libraries much of what I do I would not be able to in tenfold the time.\n",
    "\n",
    "I think I have a reasonable grasp on python and I will be using all my available skill to write the examples that appear in the text. I want you to see how it is done when it is attempted to be done well and the language is used to it's potential. I will be using lambdas and other more advanced iterators and closures in these examples. I have however not used many classes here, for I often don't see the point.\n",
    "\n",
    "### Rational\n",
    "I would like to give some thoughts to what I have seen among my peers, which is why I have chosen not to simplify the python code conceptually if there is a more elegant possibility available.\n",
    "\n",
    "I feel like computing is treated like a second class citizen in physics. As a person that spends a lot of time with computers I don't really like that. I feel like learning to program is a side note in physics education, even though it seems to me that EVERY physicist starts coding eventually. Then when they do begin to code they often lack the understanding for the concepts and practices that are needed to develop and maintain high quality code. This results in software packages like [root](https://root.cern.ch) which is a very powerful toolkit for statistical analysis and produces utterly unreadable code for literaly any problem that is thrown it's way. Furthermore many physicists lack a good coding style and the neccesary toolset to write well formatted code. It feels like everything is cobbled together from barely functioning prototypes.\n",
    "\n",
    "So as a counterexample I want to show how elegantly it can be when modern languages are used to a somewhat larger extent than is normally found with physicist programmers."
   ]
  },
  {
   "cell_type": "markdown",
   "metadata": {},
   "source": [
    "## Some Techniques "
   ]
  },
  {
   "cell_type": "code",
   "execution_count": null,
   "metadata": {},
   "outputs": [],
   "source": []
  }
 ],
 "metadata": {
  "kernelspec": {
   "display_name": "Python 3",
   "language": "python",
   "name": "python3"
  },
  "language_info": {
   "codemirror_mode": {
    "name": "ipython",
    "version": 3
   },
   "file_extension": ".py",
   "mimetype": "text/x-python",
   "name": "python",
   "nbconvert_exporter": "python",
   "pygments_lexer": "ipython3",
   "version": "3.7.5"
  }
 },
 "nbformat": 4,
 "nbformat_minor": 4
}
