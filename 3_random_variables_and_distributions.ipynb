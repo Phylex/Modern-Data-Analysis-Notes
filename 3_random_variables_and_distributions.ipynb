{
 "cells": [
  {
   "cell_type": "markdown",
   "metadata": {},
   "source": [
    "# Modern Methods of Data Analysis 3"
   ]
  },
  {
   "cell_type": "markdown",
   "metadata": {},
   "source": [
    "## Random Variables\n",
    "When performing observations it is essentially impossible to ban all sources of random fluctuations from the experiment (remember the thing I saied about EVERYTHING, even the measurement instrument being a quantum system and therefor susceptible to random behaviour), as a result all measurements will fluctuate. Some may only fluctuate subtily and others will fluctuate more pronounced.\n",
    "\n",
    "A variable that is subject to such random fluctuations is called a random variable. In day to day operations however observable quantities (like the voltage from your lab power supply) that can be controlled very tightly are given without an error margin. This is done because the effect of the error is assumed to be minimal and therefor it's effect on the result is neglected for the sake of simplicity.\n",
    "\n",
    "### Random Vectors\n",
    "Most often an experiment does not only measure a single observable quantity but a variety of them. So taking a single measurement of the experiment involves reading multiple instruments. The result of a measurements is therefore no longer a number but a vector $\\vec{X}$ that incorporate the readings of all instruments involved.\n",
    "All operations that can be formulated for a single random variable are simply applied to each element of the vector. This gives rise to a matrix formalism for random-variable-vectors that is far more common for real experiments than analyzing each member of the vector individually. So from now on I will include a matrix formulation of all the equations where applicable.\n",
    "\n",
    "---\n",
    "### The probability density function\n",
    "If two subsequent measurements $\\omega$ and $\\omega'$ are taken of the random variable $X$ with possible values in $S$, it is highly unlikely, that both have the same value. If many measurements are taken (into the thousands or even up to billions) regions ($x_0 \\lt \\omega \\lt x_1$) can emerge where more measurements appear (the average distance between two neighboring measurements is small) along with regiones where less appear ($x_2 \\lt \\omega \\lt x_3$) (the average distance between two neighboring measurements is comparatively large). The likelihood of a measurements appearing in an interval $\\text{d}x$ is called the probability density. This probability density can be characterized by the *probability density function* or PDF.\n",
    "\n",
    "The probability density is defined by:\n",
    "\n",
    "$$ p(x) = \\lim\\limits_{N \\rightarrow \\infty}{\\frac{n}{N}\\mathrm{d}x}$$ where $n$ is the amount of measurements in the interval $x_0 \\leq x \\leq x_1$.\n",
    "\n",
    "As the probability for measuring a value in $S$ is $P(S) = 1$ it follows that\n",
    "\n",
    "$$ \\int_{S} p(x)\\,\\mathrm{d}x = 1$$\n",
    "\n",
    "for a single random variable and \n",
    "\n",
    "$$ \\prod_{i=1}^{n} \\int_{S_v} p_i(x_i) \\mathrm{d}x_i = 1$$\n",
    "\n",
    "for an $n$ dimensional vector of random variables from the set of all possible vectors $S_v$.\n",
    "\n",
    "If $S$ is not a contiguous (as for example the results of a dice roll of an n sided die) then the above integral simplifies to a sum\n",
    "\n",
    "$$ \\sum_{x\\in S} p(x) = 1$$\n",
    "\n",
    "or a sum of summs in the case of a vector with discrete entries\n",
    "\n",
    "$$ \\sum_{x_1 \\in S_1} \\text{...} \\sum_{x_N \\in S_N} \\prod_{i=1}^N p_i(x_i) = 1$$\n",
    "\n",
    "---\n",
    "\n",
    "## Making the PDF visible with Histograms\n",
    "Using computers as we are, there is a fairly simple numerical way to approximate the PDF. This is done via a histogram. The idea of a histogram is that all measurements that fall into a specific range ($x_0 < x < x_1$) are simply counted without recording their exact value. then the amount of measurements that lie within that interval is visualized by the height of a rectangle with the base of the rectangle being the interval that the measurements lie in. This is not only done for one interval but for the entire range of measurement outcomes. A histogram looks like this"
   ]
  },
  {
   "cell_type": "code",
   "execution_count": 33,
   "metadata": {},
   "outputs": [
    {
     "name": "stdout",
     "output_type": "stream",
     "text": [
      "Counts per interval: [106 101  90 102  97 111 209  92  92]\n",
      "Edges of the intervals: [0.  0.1 0.2 0.3 0.4 0.5 0.6 0.8 0.9 1. ]\n"
     ]
    }
   ],
   "source": [
    "import numpy as np\n",
    "import matplotlib.pyplot as plt\n",
    "import scipy.stats as st\n",
    "\n",
    "# first lets produce some (1000) random numbers in the domain [0, 1)\n",
    "rand_nums = np.random.rand(1000)\n",
    "# lets define the edges of the intervals that the numbers should be grouped in\n",
    "bin_edges = [0, 0.1, 0.2, 0.3, 0.4, 0.5, 0.6, 0.8, 0.9, 1.0]\n",
    "#now lets produce a histogram from the numbers\n",
    "hist, bins = np.histogram(rand_nums, bin_edges)\n",
    "print(\"Counts per interval: {}\".format(hist))\n",
    "print(\"Edges of the intervals: {}\".format(bins))"
   ]
  },
  {
   "cell_type": "markdown",
   "metadata": {},
   "source": [
    "As you can see, the bin from 0.6 to 0.8 is twice as wide as all the other bins and there also where about twice as many random numbers in that interval. From this we can deduce, that the PDF of the random numbers is likely a constant function. This sort of distribution is called a *uniform distribution*. Let's now plot the histogram"
   ]
  },
  {
   "cell_type": "code",
   "execution_count": 16,
   "metadata": {},
   "outputs": [
    {
     "data": {
      "image/png": "[encoded data removed]",
      "text/plain": [
       "<Figure size 432x288 with 1 Axes>"
      ]
     },
     "metadata": {},
     "output_type": "display_data"
    }
   ],
   "source": [
    "h, b, p = plt.hist(bin_edges[:-1], bin_edges, weights=hist, edgecolor='black') # The result of this function is prevented from being printed by writing it to variables"
   ]
  },
  {
   "cell_type": "markdown",
   "metadata": {},
   "source": [
    "If we sum up all the entries in all the intervals (that are called **bins** of a histogram) we should get back the total number of measurements"
   ]
  },
  {
   "cell_type": "code",
   "execution_count": 11,
   "metadata": {},
   "outputs": [
    {
     "data": {
      "text/plain": [
       "1000.0"
      ]
     },
     "execution_count": 11,
     "metadata": {},
     "output_type": "execute_result"
    }
   ],
   "source": [
    "sum(hist)"
   ]
  },
  {
   "cell_type": "markdown",
   "metadata": {},
   "source": [
    "As you can see, the visualisation is a bit misleading in terms of showing that the PDF is a uniform function. This is because for an interval twice as wide as the rest, we get twice as many counts producing an area that is four times the size it should actually be. To correct for this the height of a bin has to be divided by it's with, so that the factors don't compund but instead cancel each other out."
   ]
  },
  {
   "cell_type": "code",
   "execution_count": 24,
   "metadata": {},
   "outputs": [
    {
     "data": {
      "image/png": "[encoded data removed]",
      "text/plain": [
       "<Figure size 432x288 with 1 Axes>"
      ]
     },
     "metadata": {},
     "output_type": "display_data"
    }
   ],
   "source": [
    "# calculate the width of the bins\n",
    "bin_width = [left_edge - right_edge for left_edge, right_edge in zip(bin_edges[1:],bin_edges[:-1])]\n",
    "\n",
    "# correct the correlation between height and width\n",
    "corrected_hist = [count/width for count, width in zip(hist, bin_width)]\n",
    "\n",
    "#plot the corrected hist\n",
    "h, b, p = plt.hist(bin_edges[:-1], bin_edges, weights=corrected_hist, edgecolor='black')"
   ]
  },
  {
   "cell_type": "markdown",
   "metadata": {},
   "source": [
    "However you can now see, that instead of the number of measurements within any given bin, we now have a number close to the total number of events as the height on each bin so we need to come up with some sort of measure to give the number on the y-axis some meaning (as it currently needs a rather convoluted explanation).\n",
    "\n",
    "The solution to this problem is to plot the **probability density** instead of the number of counts in each bin. This can be done in the following way "
   ]
  },
  {
   "cell_type": "code",
   "execution_count": 27,
   "metadata": {},
   "outputs": [
    {
     "data": {
      "image/png": "[encoded data removed]",
      "text/plain": [
       "<Figure size 432x288 with 1 Axes>"
      ]
     },
     "metadata": {},
     "output_type": "display_data"
    }
   ],
   "source": [
    "# calculate the density for each bin\n",
    "relative_count = [count/sum(hist) for count in hist]\n",
    "\n",
    "# now do the correction for the bin width, just as before\n",
    "probability_density = [rel_cnt/width for rel_cnt, width in zip(relative_count, bin_width)]\n",
    "\n",
    "#plot a histogram approximation of the probability density\n",
    "h, b, p = plt.hist(bin_edges[:-1], bin_edges, weights=probability_density, edgecolor='black')"
   ]
  },
  {
   "cell_type": "markdown",
   "metadata": {},
   "source": [
    "Now that we have computed the probability density the relative amount of measurements in each bin is the area of the rectangle drawn over the interval of the corresponding bin. This makes it possible to quickly comprehend the shape of a PDF without much effort. (as this is used very often the `plt.hist` function offers the keyword argument `density` that when set to `true` converts the histogram to show the PDF by the process described above).\n",
    "As the histogram now shows the probability density, it follows that the total Area of the histogram is $P(S) = 1$."
   ]
  },
  {
   "cell_type": "code",
   "execution_count": 38,
   "metadata": {},
   "outputs": [
    {
     "data": {
      "text/plain": [
       "1.0"
      ]
     },
     "execution_count": 38,
     "metadata": {},
     "output_type": "execute_result"
    }
   ],
   "source": [
    "sum([density*width for density, width in zip(probability_density, bin_width)])"
   ]
  },
  {
   "cell_type": "markdown",
   "metadata": {},
   "source": [
    "which is in deed the case.\n",
    "\n",
    "And now just for fun lets look at a histogram of a gaussian (also called **normal**) distribution (you will encounter this type of distribution very often). As you will undoublty be able to see, the top edges of the histogram follow the refernce function very closely. "
   ]
  },
  {
   "cell_type": "code",
   "execution_count": 37,
   "metadata": {},
   "outputs": [
    {
     "data": {
      "image/png": "[encoded data removed]",
      "text/plain": [
       "<Figure size 432x288 with 1 Axes>"
      ]
     },
     "metadata": {},
     "output_type": "display_data"
    }
   ],
   "source": [
    "# generate some random numbers following the 'normal' distributed\n",
    "mu = 0\n",
    "sigma = 1\n",
    "normal_rand_nums = np.random.randn(10000) * sigma + mu\n",
    "# calculate and plot the normalized histogram\n",
    "h, b, p = plt.hist(normal_rand_nums, bins=30, density=True, edgecolor='black')\n",
    "\n",
    "# plot the function as a reference\n",
    "x = np.linspace(min(b), max(b), 1000)\n",
    "l = plt.plot(x, st.norm.pdf(x))"
   ]
  },
  {
   "cell_type": "markdown",
   "metadata": {},
   "source": [
    "---\n",
    "### Sampeling a random variable\n",
    "In the abstract an experiment is the set of circumstances needed to generate a probability density funciton (a multidimensional one when multiple readings are involved) for the observed quantities. Then the probability density function is interpreted and \"laws of nature\" are deduced from that. The only way to truly get the probability density is to perform infinite measurements, which, needless to say, is impossible. So instead a **Sample** is taken of the probability density function and these samples are then used to approximate the PDF with the help of models. A sample is nothing more than a group of measurements taken from the PDF.\n",
    "\n",
    "An experiment can have many different parameters $\\vec{\\theta}$ that have to be set before taking a sample. In these cases the PDF is dependent on these parameters $\\vec{\\theta}$. This dependence of the PDF on $\\vec{\\theta}$ is normally formulated as the \"laws\" of nature. When these laws are formulated they don't actually describe a PDF but normally a function $\\vec{y}=f(\\vec{\\theta})$. This is done because the PDF is dependent on the specific measurement setup, the underlying principle that is captured by $f$ however is not.\n",
    "\n",
    "It may be obvious, but it is of course possible to take multiple samples. Sometimes it is useful to change the parameters $\\vec{\\theta}$ before taking another sample, because the goal is to find out how the PDF is dependent on $\\vec{\\theta}$ other times another sample is generated to improve overall *statistical significance* (we will get to that at a later point).\n",
    "\n",
    "---"
   ]
  },
  {
   "cell_type": "markdown",
   "metadata": {},
   "source": [
    "## Expectation values, means and other Estimators\n",
    "\n",
    "The defining characteristic of a random variable is its probability density function. However as a rule the PDF is not known and has to be guessed at with the help of models. However there are a few indicators (or estimators) that can give you an Idea of how a PDF looks like (without using a histogram) based on a sample drawn form it. These characteristic measures are called **Estimators**. An estimator can only be calculated from a Sample containing more than one measurement, without giving garbage results. The most well known estimator is probably the mean-value estimator.\n",
    "\n",
    "The mean estimator is defined as:\n",
    "\n",
    "$$ E(X) = \\frac{1}{n}\\sum_{i=1}^n x_i$$\n",
    "\n",
    "where n is the size of the sample (the amount of measurements in the sample) and $x_i$ is the value of the i-th measurement. For a random vector this is defined as\n",
    "\n",
    "$$ E(\\vec{X}) = \\frac{1}{n} \\sum_{i=1}^n \\vec{x}_i$$\n",
    "\n",
    "So for the random numbers (both for the gaussian and the uniform distribution) we can calculate the mean"
   ]
  },
  {
   "cell_type": "code",
   "execution_count": 41,
   "metadata": {},
   "outputs": [
    {
     "name": "stdout",
     "output_type": "stream",
     "text": [
      "The mean of the normal distribution is: -0.005545879158330301\n",
      "The mean of the uniform distribution in [0, 1): 0.49563467333763384\n"
     ]
    }
   ],
   "source": [
    "# calculate the mean for the sample drawn from the gaussian distribution\n",
    "normal_mean = 1/len(normal_rand_nums) * sum(normal_rand_nums)\n",
    "print(\"The mean of the normal distribution is: {}\".format(normal_mean))\n",
    "\n",
    "# calculate the mean for the sample drawn from the uniform distribution\n",
    "uniform_mean = 1/len(rand_nums) * sum(rand_nums)\n",
    "print(\"The mean of the uniform distribution in [0, 1): {}\".format(uniform_mean))"
   ]
  },
  {
   "cell_type": "markdown",
   "metadata": {},
   "source": [
    "#### Estimators are random variables\n",
    "As the Estimator is a function of a random variable sample, it is itself a random variable. This means, that an estimator will vary from sample to sample. As such A sample of estimators can be generated and an estimator can be calculated from that sample (even the same estimator can be calculated on the sample of estimators). This can be done recursively without end (the only problem there is, that to generate a sample of a sample, the amount of measurements that need to be taken grows exponentially with each recursive level. This means that it is unpractical at best to calculate more than an estimator for a sample of samples).\n",
    "So lets try and calculate the mean of means for a uniform distribution."
   ]
  },
  {
   "cell_type": "code",
   "execution_count": 46,
   "metadata": {},
   "outputs": [
    {
     "name": "stdout",
     "output_type": "stream",
     "text": [
      "[0.5909118080778837, 0.6682026861284956, 0.529253280679414, 0.5355376659717419, 0.4327387298309775, 0.4125355986149849, 0.5389466613032231, 0.43868776901863704, 0.4772460572303622, 0.46195942765596254, 0.4817251787886119, 0.3439565742509304, 0.5507002721651023, 0.41195065584051943, 0.5348820591756389, 0.417609184771086, 0.5799657661148131, 0.5591675876991671, 0.41569985269187254, 0.42409693379384156, 0.657026620394507, 0.4672307269767885, 0.5730464440672478, 0.6027260187185396, 0.488984064769198, 0.38592603263540537, 0.48571691459357513, 0.49197730622546754, 0.5886250856161257, 0.4536269882456899, 0.476238396352311, 0.4214755919319221, 0.5481565985723205, 0.5141612593669225, 0.5087236682018157, 0.5814024059151378, 0.4794489059178016, 0.4957505350226968, 0.5101597028394746, 0.5273395320650526, 0.3690588902927109, 0.5713279318293505, 0.5081662447451568, 0.44076085640819657, 0.5555699399517728, 0.38714067461992013, 0.5427826681416956, 0.5127638484517709, 0.3604398093889535, 0.5243408952567536, 0.5224045304243942, 0.5241235039929618, 0.5045356491026516, 0.45785529137840486, 0.531771007155534, 0.41189082310713926, 0.5077045944699794, 0.5241829492338506, 0.5746997941102987, 0.5395727797252942, 0.5306454565294841, 0.5228562089773258, 0.5342854505844085, 0.49117291217382864, 0.5666731045082851, 0.38954305970376113, 0.6207795555071864, 0.5878915562806062, 0.4011346515786996, 0.46213929691715727, 0.5406329019481656, 0.5030819744096366, 0.5032306065645499, 0.4398952643148471, 0.3937855648553544, 0.37851787131605885, 0.5278912040929142, 0.46321847410189687, 0.46677504288393806, 0.5531267624373821, 0.5737770829911366, 0.5567629126945275, 0.49696008139441705, 0.38324133307746433, 0.5580347611924033, 0.5509180061117854, 0.49167628012496545, 0.5751204243172059, 0.3937194240485645, 0.5755516245366572, 0.32645078210795936, 0.5260548309410857, 0.3920306225449511, 0.5199119325109121, 0.4240891338293048, 0.44977159030519276, 0.4355474969274581, 0.4772198065186041, 0.46725054326265225, 0.5359403080517391]\n",
      "\n",
      "Mean of means: 0.49521915127192523\n"
     ]
    }
   ],
   "source": [
    "# a sample of random numbers of length n can be drawn from a uniform distribution [0,1) with np.random.rand(n)\n",
    "n = 20\n",
    "mean_sample_size = 100\n",
    "sample_of_means = [np.mean(np.random.rand(n)) for i in range(mean_sample_size)]\n",
    "print(sample_of_means)\n",
    "\n",
    "# now calculate the mean of the means\n",
    "mean_of_means = np.mean(sample_of_means)\n",
    "print(\"\\nMean of means: {}\".format(mean_of_means))"
   ]
  },
  {
   "cell_type": "markdown",
   "metadata": {},
   "source": [
    "It is of course also possible to draw a histogram for the sample of means."
   ]
  },
  {
   "cell_type": "code",
   "execution_count": 48,
   "metadata": {},
   "outputs": [
    {
     "data": {
      "image/png": "[encoded data removed]",
      "text/plain": [
       "<Figure size 432x288 with 1 Axes>"
      ]
     },
     "metadata": {},
     "output_type": "display_data"
    }
   ],
   "source": [
    "h, b, p = plt.hist(sample_of_means, bins=10, edgecolor='black')"
   ]
  },
  {
   "cell_type": "markdown",
   "metadata": {},
   "source": [
    "Though with \"only\" 100 values for the mean it is fairly difficult to tell from looking at the histogram, how the means are distributed.\n",
    "To improve the quality of the PDF we can calculate the mean more often, this means that we need to generate n times the amount of random numbers."
   ]
  },
  {
   "cell_type": "code",
   "execution_count": 54,
   "metadata": {},
   "outputs": [
    {
     "name": "stdout",
     "output_type": "stream",
     "text": [
      "mean of mean of means: 0.5003320981714772\n",
      "total amount of random numbers generated: 200000\n"
     ]
    }
   ],
   "source": [
    "# lets track how many numbers are generated in total\n",
    "numbers_generated = 0\n",
    "\n",
    "# definition of the mean\n",
    "def mean(data):\n",
    "    return 1/len(data) * sum(data)\n",
    "\n",
    "# define some functions that calculate the mean and mean of mean and mean of mean of means\n",
    "def generate_mean_from_uniform_sample(n):\n",
    "    global numbers_generated;\n",
    "    numbers_generated = numbers_generated + n\n",
    "    return mean(np.random.rand(n))\n",
    "\n",
    "def generate_sample_of_means(m, n):\n",
    "    return [generate_mean_from_uniform_sample(n) for i in range(m)]\n",
    "\n",
    "def generate_sample_of_mean_of_means(o, m, n):\n",
    "    return [mean(generate_sample_of_means(m, n)) for i in range(o)]\n",
    "\n",
    "mean_of_means_sample_size = 100\n",
    "mean_sample_size = 100\n",
    "sample_size = 20\n",
    "mean_of_means = generate_sample_of_mean_of_means(mean_of_means_sample_size, mean_sample_size, sample_size)\n",
    "print(\"mean of mean of means: {}\".format(mean(mean_of_means)))\n",
    "print(\"total amount of random numbers generated: {}\".format(numbers_generated))"
   ]
  },
  {
   "cell_type": "markdown",
   "metadata": {},
   "source": [
    "So to generate a single mean of means of means 200,000 random numbers have to be generated. So be careful how deep you want to do that recursion (and check that what you do makes sense."
   ]
  },
  {
   "cell_type": "code",
   "execution_count": null,
   "metadata": {},
   "outputs": [],
   "source": []
  }
 ],
 "metadata": {
  "kernelspec": {
   "display_name": "Python 3",
   "language": "python",
   "name": "python3"
  },
  "language_info": {
   "codemirror_mode": {
    "name": "ipython",
    "version": 3
   },
   "file_extension": ".py",
   "mimetype": "text/x-python",
   "name": "python",
   "nbconvert_exporter": "python",
   "pygments_lexer": "ipython3",
   "version": "3.7.5"
  }
 },
 "nbformat": 4,
 "nbformat_minor": 4
}
