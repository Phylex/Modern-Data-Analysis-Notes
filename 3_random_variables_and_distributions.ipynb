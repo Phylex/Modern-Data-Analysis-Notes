{
 "cells": [
  {
   "cell_type": "markdown",
   "metadata": {},
   "source": [
    "# Modern Methods of Data Analysis 3"
   ]
  },
  {
   "cell_type": "markdown",
   "metadata": {},
   "source": [
    "## Random Variables\n",
    "When performing observations it is essentially impossible to ban all sources of random fluctuations from the experiment (remember the thing I saied about EVERYTHING, even the measurement instrument being a quantum system and therefor susceptible to random behaviour), as a result all measurements will fluctuate. Some may only fluctuate subtily and others will fluctuate more pronounced.\n",
    "\n",
    "A variable that is subject to such random fluctuations is called a random variable. In day to day operations however observable quantities (like the voltage from your lab power supply) that can be controlled very tightly are given without an error margin. This is done because the effect of the error is assumed to be minimal and therefor it's effect on the result is neglected for the sake of simplicity.\n",
    "\n",
    "### Random Vectors\n",
    "Most often an experiment does not only measure a single observable quantity but a variety of them. So taking a single measurement of the experiment involves reading multiple instruments. The result of a measurements is therefore no longer a number but a vector $\\vec{X}$ that incorporate the readings of all instruments involved.\n",
    "All operations that can be formulated for a single random variable are simply applied to each element of the vector. This gives rise to a matrix formalism for random-variable-vectors that is far more common for real experiments than analyzing each member of the vector individually. So from now on I will include a matrix formulation of all the equations where applicable.\n",
    "\n",
    "---\n",
    "### The probability density function\n",
    "If two subsequent measurements $\\omega$ and $\\omega'$ are taken of the random variable $X$ with possible values in $S$, it is highly unlikely, that both have the same value. If many measurements are taken (into the thousands or even up to billions) regions ($x_0 \\lt \\omega \\lt x_1$) can emerge where more measurements appear (the average distance between two neighboring measurements is small) along with regiones where less appear ($x_2 \\lt \\omega \\lt x_3$) (the average distance between two neighboring measurements is comparatively large). The likelihood of a measurements appearing in an interval $\\text{d}x$ is called the probability density. This probability density can be characterized by the *probability density function* or PDF.\n",
    "\n",
    "The probability density is defined by:\n",
    "\n",
    "$$ p(x) = \\lim\\limits_{N \\rightarrow \\infty}{\\frac{n}{N}\\mathrm{d}x}$$ where $n$ is the amount of measurements in the interval $x_0 \\leq x \\leq x_1$.\n",
    "\n",
    "As the probability for measuring a value in $S$ is $P(S) = 1$ it follows that\n",
    "\n",
    "$$ \\int_{S} p(x)\\,\\mathrm{d}x = 1$$\n",
    "\n",
    "for a single random variable and \n",
    "\n",
    "$$ \\prod_{i=1}^{n} \\int_{S_v} p_i(x_i) \\mathrm{d}x_i = 1$$\n",
    "\n",
    "for an $n$ dimensional vector of random variables from the set of all possible vectors $S_v$.\n",
    "\n",
    "If $S$ is not a contiguous (as for example the results of a dice roll of an n sided die) then the above integral simplifies to a sum\n",
    "\n",
    "$$ \\sum_{x\\in S} p(x) = 1$$\n",
    "\n",
    "or a sum of summs in the case of a vector with discrete entries\n",
    "\n",
    "$$ \\sum_{x_1 \\in S_1} \\text{...} \\sum_{x_N \\in S_N} \\prod_{i=1}^N p_i(x_i) = 1$$\n",
    "\n",
    "---\n",
    "\n",
    "## Making the PDF visible with Histograms\n",
    "Using computers as we are, there is a fairly simple numerical way to approximate the PDF. This is done via a histogram. The idea of a histogram is that all measurements that fall into a specific range ($x_0 < x < x_1$) are simply counted without recording their exact value. then the amount of measurements that lie within that interval is visualized by the height of a rectangle with the base of the rectangle being the interval that the measurements lie in. This is not only done for one interval but for the entire range of measurement outcomes. A histogram looks like this"
   ]
  },
  {
   "cell_type": "code",
   "execution_count": 33,
   "metadata": {},
   "outputs": [
    {
     "name": "stdout",
     "output_type": "stream",
     "text": [
      "Counts per interval: [106 101  90 102  97 111 209  92  92]\n",
      "Edges of the intervals: [0.  0.1 0.2 0.3 0.4 0.5 0.6 0.8 0.9 1. ]\n"
     ]
    }
   ],
   "source": [
    "import numpy as np\n",
    "import matplotlib.pyplot as plt\n",
    "import scipy.stats as st\n",
    "\n",
    "# first lets produce some (1000) random numbers in the domain [0, 1)\n",
    "rand_nums = np.random.rand(1000)\n",
    "# lets define the edges of the intervals that the numbers should be grouped in\n",
    "bin_edges = [0, 0.1, 0.2, 0.3, 0.4, 0.5, 0.6, 0.8, 0.9, 1.0]\n",
    "#now lets produce a histogram from the numbers\n",
    "hist, bins = np.histogram(rand_nums, bin_edges)\n",
    "print(\"Counts per interval: {}\".format(hist))\n",
    "print(\"Edges of the intervals: {}\".format(bins))"
   ]
  },
  {
   "cell_type": "markdown",
   "metadata": {},
   "source": [
    "As you can see, the bin from 0.6 to 0.8 is twice as wide as all the other bins and there also where about twice as many random numbers in that interval. From this we can deduce, that the PDF of the random numbers is likely a constant function. This sort of distribution is called a *uniform distribution*. Let's now plot the histogram"
   ]
  },
  {
   "cell_type": "code",
   "execution_count": 16,
   "metadata": {},
   "outputs": [
    {
     "data": {
      "image/png": "[encoded data removed]",
      "text/plain": [
       "<Figure size 432x288 with 1 Axes>"
      ]
     },
     "metadata": {},
     "output_type": "display_data"
    }
   ],
   "source": [
    "h, b, p = plt.hist(bin_edges[:-1], bin_edges, weights=hist, edgecolor='black') # The result of this function is prevented from being printed by writing it to variables"
   ]
  },
  {
   "cell_type": "markdown",
   "metadata": {},
   "source": [
    "If we sum up all the entries in all the intervals (that are called **bins** of a histogram) we should get back the total number of measurements"
   ]
  },
  {
   "cell_type": "code",
   "execution_count": 11,
   "metadata": {},
   "outputs": [
    {
     "data": {
      "text/plain": [
       "1000.0"
      ]
     },
     "execution_count": 11,
     "metadata": {},
     "output_type": "execute_result"
    }
   ],
   "source": [
    "sum(hist)"
   ]
  },
  {
   "cell_type": "markdown",
   "metadata": {},
   "source": [
    "As you can see, the visualisation is a bit misleading in terms of showing that the PDF is a uniform function. This is because for an interval twice as wide as the rest, we get twice as many counts producing an area that is four times the size it should actually be. To correct for this the height of a bin has to be divided by it's with, so that the factors don't compund but instead cancel each other out."
   ]
  },
  {
   "cell_type": "code",
   "execution_count": 24,
   "metadata": {},
   "outputs": [
    {
     "data": {
      "image/png": "[encoded data removed]",
      "text/plain": [
       "<Figure size 432x288 with 1 Axes>"
      ]
     },
     "metadata": {},
     "output_type": "display_data"
    }
   ],
   "source": [
    "# calculate the width of the bins\n",
    "bin_width = [left_edge - right_edge for left_edge, right_edge in zip(bin_edges[1:],bin_edges[:-1])]\n",
    "\n",
    "# correct the correlation between height and width\n",
    "corrected_hist = [count/width for count, width in zip(hist, bin_width)]\n",
    "\n",
    "#plot the corrected hist\n",
    "h, b, p = plt.hist(bin_edges[:-1], bin_edges, weights=corrected_hist, edgecolor='black')"
   ]
  },
  {
   "cell_type": "markdown",
   "metadata": {},
   "source": [
    "However you can now see, that instead of the number of measurements within any given bin, we now have a number close to the total number of events as the height on each bin so we need to come up with some sort of measure to give the number on the y-axis some meaning (as it currently needs a rather convoluted explanation).\n",
    "\n",
    "The solution to this problem is to plot the **probability density** instead of the number of counts in each bin. This can be done in the following way "
   ]
  },
  {
   "cell_type": "code",
   "execution_count": 27,
   "metadata": {},
   "outputs": [
    {
     "data": {
      "image/png": "[encoded data removed]",
      "text/plain": [
       "<Figure size 432x288 with 1 Axes>"
      ]
     },
     "metadata": {},
     "output_type": "display_data"
    }
   ],
   "source": [
    "# calculate the density for each bin\n",
    "relative_count = [count/sum(hist) for count in hist]\n",
    "\n",
    "# now do the correction for the bin width, just as before\n",
    "probability_density = [rel_cnt/width for rel_cnt, width in zip(relative_count, bin_width)]\n",
    "\n",
    "#plot a histogram approximation of the probability density\n",
    "h, b, p = plt.hist(bin_edges[:-1], bin_edges, weights=probability_density, edgecolor='black')"
   ]
  },
  {
   "cell_type": "markdown",
   "metadata": {},
   "source": [
    "Now that we have computed the probability density the relative amount of measurements in each bin is the area of the rectangle drawn over the interval of the corresponding bin. This makes it possible to quickly comprehend the shape of a PDF without much effort. (as this is used very often the `plt.hist` function offers the keyword argument `density` that when set to `true` converts the histogram to show the PDF by the process described above).\n",
    "\n",
    "And now just for fun lets look at a histogram of a gaussian (also called **normal**) distribution (you will encounter this type of distribution very often). As you will undoublty be able to see, the top edges of the histogram follow the refernce function very closely. "
   ]
  },
  {
   "cell_type": "code",
   "execution_count": 37,
   "metadata": {},
   "outputs": [
    {
     "data": {
      "image/png": "[encoded data removed]",
      "text/plain": [
       "<Figure size 432x288 with 1 Axes>"
      ]
     },
     "metadata": {},
     "output_type": "display_data"
    }
   ],
   "source": [
    "# generate some random numbers following the 'normal' distributed\n",
    "mu = 0\n",
    "sigma = 1\n",
    "normal_rand_nums = np.random.randn(10000) * sigma + mu\n",
    "# calculate and plot the normalized histogram\n",
    "h, b, p = plt.hist(normal_rand_nums, bins=30, density=True, edgecolor='black')\n",
    "\n",
    "# plot the function as a reference\n",
    "x = np.linspace(min(b), max(b), 1000)\n",
    "l = plt.plot(x, st.norm.pdf(x))"
   ]
  },
  {
   "cell_type": "markdown",
   "metadata": {},
   "source": [
    "---\n",
    "### Sampeling a random variable\n",
    "In the abstract an experiment is the set of circumstances needed to generate a probability density funciton (a multidimensional one when multiple readings are involved) for the observed quantities. Then the probability density function is interpreted and \"laws of nature\" are deduced from that. The only way to truly get the probability density is to perform infinite measurements, which, needless to say, is impossible. So instead a **Sample** is taken of the probability density function and these samples are then used to approximate the PDF with the help of models. A sample is nothing more than a group of measurements taken from the PDF. An experiment can have many different parameters that have to be set before taking a sample and the set of parameters that "
   ]
  },
  {
   "cell_type": "markdown",
   "metadata": {},
   "source": [
    "## Expectation values, means and other Estimators\n",
    "\n",
    "The defining characteristic of a random variable is its probability density function. However as a rule the PDF is not known and has to be guessed at with the help of models. However there are a few indicators (or estimators) that can give you an Idea of how a PDF looks like based on a sample drawn form it."
   ]
  }
 ],
 "metadata": {
  "kernelspec": {
   "display_name": "Python 3",
   "language": "python",
   "name": "python3"
  },
  "language_info": {
   "codemirror_mode": {
    "name": "ipython",
    "version": 3
   },
   "file_extension": ".py",
   "mimetype": "text/x-python",
   "name": "python",
   "nbconvert_exporter": "python",
   "pygments_lexer": "ipython3",
   "version": "3.7.5"
  }
 },
 "nbformat": 4,
 "nbformat_minor": 4
}
