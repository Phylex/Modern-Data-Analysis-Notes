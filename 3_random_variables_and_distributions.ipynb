{
 "cells": [
  {
   "cell_type": "markdown",
   "metadata": {},
   "source": [
    "# Modern Methods of Data Analysis 3"
   ]
  },
  {
   "cell_type": "markdown",
   "metadata": {},
   "source": [
    "## Random Variables\n",
    "When performing observations it is essentially impossible to ban all sources of random fluctuations from the experiment (remember the thing I saied about EVERYTHING, even the measurement instrument being a quantum system and therefor susceptible to random behaviour), as a result all measurements will fluctuate. Some may only fluctuate subtily and others will fluctuate more pronounced.\n",
    "\n",
    "A variable that is subject to such random fluctuations is called a random variable. In day to day operations however observable quantities (like the voltage from your lab power supply) that can be controlled very tightly are given without an error margin. This is done because the effect of the error is assumed to be minimal and therefor it's effect on the result is neglected for the sake of simplicity.\n",
    "\n",
    "### Random Vectors\n",
    "Most often an experiment does not only measure a single observable quantity but a variety of them. So taking a single measurement of the experiment involves reading multiple instruments. The result of a measurements is therefore no longer a number but a vector $\\vec{X}$ that incorporate the readings of all instruments involved.\n",
    "All operations that can be formulated for a single random variable are simply applied to each element of the vector. This gives rise to a matrix formalism for random-variable-vectors that is far more common for real experiments than analyzing each member of the vector individually. So from now on I will include a matrix formulation of all the equations where applicable.\n",
    "\n",
    "---\n",
    "### The probability density function\n",
    "If two subsequent measurements $\\omega$ and $\\omega'$ are taken of the random variable $X$ with possible values in $S$, it is highly unlikely, that both have the same value. If many measurements are taken (into the thousands or even up to billions) regions ($x_0 \\lt \\omega \\lt x_1$) can emerge where more measurements appear (the average distance between two neighboring measurements is small) along with regiones where less appear ($x_2 \\lt \\omega \\lt x_3$) (the average distance between two neighboring measurements is comparatively large). The likelihood of a measurements appearing in an interval $\\text{d}x$ is called the probability density. This probability density can be characterized by the *probability density function* or PDF.\n",
    "\n",
    "The probability density is defined by:\n",
    "\n",
    "$$ p(x) = \\lim\\limits_{N \\rightarrow \\infty}{\\frac{n}{N}\\mathrm{d}x}$$ where $n$ is the amount of measurements in the interval $x_0 \\leq x \\leq x_1$.\n",
    "\n",
    "As the probability for measuring a value in $S$ is $P(S) = 1$ it follows that\n",
    "\n",
    "$$ \\int_{S} p(x)\\,\\mathrm{d}x = 1$$\n",
    "\n",
    "for a single random variable and \n",
    "\n",
    "$$ \\prod_{i=1}^{n} \\int_{S_v} p_i(x_i) \\mathrm{d}x_i = 1$$\n",
    "\n",
    "for an $n$ dimensional vector of random variables from the set of all possible vectors $S_v$.\n",
    "\n",
    "If $S$ is not a contiguous (as for example the results of a dice roll of an n sided die) then the above integral simplifies to a sum\n",
    "\n",
    "$$ \\sum_{x\\in S} p(x) = 1$$\n",
    "\n",
    "or a sum of summs in the case of a vector with discrete entries\n",
    "\n",
    "$$ \\sum_{x_1 \\in S_1} \\text{...} \\sum_{x_N \\in S_N} \\prod_{i=1}^N p_i(x_i) = 1$$\n",
    "\n",
    "---\n",
    "\n",
    "## Making the PDF visible with Histograms\n",
    "Using computers as we are, there is a fairly simple numerical way to approximate the PDF. This is done via a histogram. The idea of a histogram is that all measurements that fall into a specific range ($x_0 < x < x_1$) are simply counted without recording their exact value. then the amount of measurements that lie within that interval is visualized by the height of a rectangle with the base of the rectangle being the interval that the measurements lie in. This is not only done for one interval but for the entire range of measurement outcomes. A histogram looks like this"
   ]
  },
  {
   "cell_type": "code",
   "execution_count": 3,
   "metadata": {},
   "outputs": [
    {
     "name": "stdout",
     "output_type": "stream",
     "text": [
      "Counts per interval: [102  88  90 104 115 101 195  98 107]\n",
      "Edges of the intervals: [0.  0.1 0.2 0.3 0.4 0.5 0.6 0.8 0.9 1. ]\n"
     ]
    }
   ],
   "source": [
    "import numpy as np\n",
    "import matplotlib.pyplot as plt\n",
    "import scipy.stats as st\n",
    "\n",
    "# first lets produce some (1000) random numbers in the domain [0, 1)\n",
    "rand_nums = np.random.rand(1000)\n",
    "# lets define the edges of the intervals that the numbers should be grouped in\n",
    "bin_edges = [0, 0.1, 0.2, 0.3, 0.4, 0.5, 0.6, 0.8, 0.9, 1.0]\n",
    "#now lets produce a histogram from the numbers\n",
    "hist, bins = np.histogram(rand_nums, bin_edges)\n",
    "print(\"Counts per interval: {}\".format(hist))\n",
    "print(\"Edges of the intervals: {}\".format(bins))"
   ]
  },
  {
   "cell_type": "markdown",
   "metadata": {},
   "source": [
    "As you can see, the bin from 0.6 to 0.8 is twice as wide as all the other bins and there also where about twice as many random numbers in that interval. From this we can deduce, that the PDF of the random numbers is likely a constant function. This sort of distribution is called a *uniform distribution*. Let's now plot the histogram"
   ]
  },
  {
   "cell_type": "code",
   "execution_count": 4,
   "metadata": {},
   "outputs": [
    {
     "data": {
      "image/png": "[encoded data removed]",
      "text/plain": [
       "<Figure size 432x288 with 1 Axes>"
      ]
     },
     "metadata": {},
     "output_type": "display_data"
    }
   ],
   "source": [
    "h, b, p = plt.hist(bin_edges[:-1], bin_edges, weights=hist, edgecolor='black') # The result of this function is prevented from being printed by writing it to variables"
   ]
  },
  {
   "cell_type": "markdown",
   "metadata": {},
   "source": [
    "If we sum up all the entries in all the intervals (that are called **bins** of a histogram) we should get back the total number of measurements"
   ]
  },
  {
   "cell_type": "code",
   "execution_count": 5,
   "metadata": {},
   "outputs": [
    {
     "data": {
      "text/plain": [
       "1000"
      ]
     },
     "execution_count": 5,
     "metadata": {},
     "output_type": "execute_result"
    }
   ],
   "source": [
    "sum(hist)"
   ]
  },
  {
   "cell_type": "markdown",
   "metadata": {},
   "source": [
    "As you can see, the visualisation is a bit misleading in terms of showing that the PDF is a uniform function. This is because for an interval twice as wide as the rest, we get twice as many counts producing an area that is four times the size it should actually be. To correct for this the height of a bin has to be divided by it's with, so that the factors don't compund but instead cancel each other out."
   ]
  },
  {
   "cell_type": "code",
   "execution_count": 6,
   "metadata": {},
   "outputs": [
    {
     "data": {
      "image/png": "[encoded data removed]",
      "text/plain": [
       "<Figure size 432x288 with 1 Axes>"
      ]
     },
     "metadata": {},
     "output_type": "display_data"
    }
   ],
   "source": [
    "# calculate the width of the bins\n",
    "bin_width = [left_edge - right_edge for left_edge, right_edge in zip(bin_edges[1:],bin_edges[:-1])]\n",
    "\n",
    "# correct the correlation between height and width\n",
    "corrected_hist = [count/width for count, width in zip(hist, bin_width)]\n",
    "\n",
    "#plot the corrected hist\n",
    "h, b, p = plt.hist(bin_edges[:-1], bin_edges, weights=corrected_hist, edgecolor='black')"
   ]
  },
  {
   "cell_type": "markdown",
   "metadata": {},
   "source": [
    "However you can now see, that instead of the number of measurements within any given bin, we now have a number close to the total number of events as the height on each bin so we need to come up with some sort of measure to give the number on the y-axis some meaning (as it currently needs a rather convoluted explanation).\n",
    "\n",
    "The solution to this problem is to plot the **probability density** instead of the number of counts in each bin. This can be done in the following way "
   ]
  },
  {
   "cell_type": "code",
   "execution_count": 7,
   "metadata": {},
   "outputs": [
    {
     "data": {
      "image/png": "[encoded data removed]",
      "text/plain": [
       "<Figure size 432x288 with 1 Axes>"
      ]
     },
     "metadata": {},
     "output_type": "display_data"
    }
   ],
   "source": [
    "# calculate the density for each bin\n",
    "relative_count = [count/sum(hist) for count in hist]\n",
    "\n",
    "# now do the correction for the bin width, just as before\n",
    "probability_density = [rel_cnt/width for rel_cnt, width in zip(relative_count, bin_width)]\n",
    "\n",
    "#plot a histogram approximation of the probability density\n",
    "h, b, p = plt.hist(bin_edges[:-1], bin_edges, weights=probability_density, edgecolor='black')"
   ]
  },
  {
   "cell_type": "markdown",
   "metadata": {},
   "source": [
    "Now that we have computed the probability density the relative amount of measurements in each bin is the area of the rectangle drawn over the interval of the corresponding bin. This makes it possible to quickly comprehend the shape of a PDF without much effort. (as this is used very often the `plt.hist` function offers the keyword argument `density` that when set to `true` converts the histogram to show the PDF by the process described above).\n",
    "As the histogram now shows the probability density, it follows that the total Area of the histogram is $P(S) = 1$."
   ]
  },
  {
   "cell_type": "code",
   "execution_count": 8,
   "metadata": {},
   "outputs": [
    {
     "data": {
      "text/plain": [
       "0.9999999999999999"
      ]
     },
     "execution_count": 8,
     "metadata": {},
     "output_type": "execute_result"
    }
   ],
   "source": [
    "sum([density*width for density, width in zip(probability_density, bin_width)])"
   ]
  },
  {
   "cell_type": "markdown",
   "metadata": {},
   "source": [
    "which is in deed the case.\n",
    "\n",
    "And now just for fun lets look at a histogram of a gaussian (also called **normal**) distribution (you will encounter this type of distribution very often). As you will undoublty be able to see, the top edges of the histogram follow the refernce function very closely. "
   ]
  },
  {
   "cell_type": "code",
   "execution_count": 9,
   "metadata": {},
   "outputs": [
    {
     "data": {
      "image/png": "[encoded data removed]",
      "text/plain": [
       "<Figure size 432x288 with 1 Axes>"
      ]
     },
     "metadata": {},
     "output_type": "display_data"
    }
   ],
   "source": [
    "# generate some random numbers following the 'normal' distributed\n",
    "mu = 0\n",
    "sigma = 1\n",
    "normal_rand_nums = np.random.randn(10000) * sigma + mu\n",
    "# calculate and plot the normalized histogram\n",
    "h, b, p = plt.hist(normal_rand_nums, bins=30, density=True, edgecolor='black')\n",
    "\n",
    "# plot the function as a reference\n",
    "x = np.linspace(min(b), max(b), 1000)\n",
    "l = plt.plot(x, st.norm.pdf(x))"
   ]
  },
  {
   "cell_type": "markdown",
   "metadata": {},
   "source": [
    "---\n",
    "### Sampeling a random variable\n",
    "In the abstract an experiment is the set of circumstances needed to generate a probability density funciton (a multidimensional one when multiple readings are involved) for the observed quantities. Then the probability density function is interpreted and \"laws of nature\" are deduced from that. The only way to truly get the probability density is to perform infinite measurements, which, needless to say, is impossible. So instead a **Sample** is taken of the probability density function and these samples are then used to approximate the PDF with the help of models. A sample is nothing more than a group of measurements taken from the PDF.\n",
    "\n",
    "An experiment can have many different parameters $\\vec{\\theta}$ that have to be set before taking a sample. In these cases the PDF is dependent on these parameters $\\vec{\\theta}$. This dependence of the PDF on $\\vec{\\theta}$ is normally formulated as the \"laws\" of nature. When these laws are formulated they don't actually describe a PDF but normally a function $\\vec{y}=f(\\vec{\\theta})$. This is done because the PDF is dependent on the specific measurement setup, the underlying principle that is captured by $f$ however is not.\n",
    "\n",
    "It may be obvious, but it is of course possible to take multiple samples. Sometimes it is useful to change the parameters $\\vec{\\theta}$ before taking another sample, because the goal is to find out how the PDF is dependent on $\\vec{\\theta}$ other times another sample is generated to improve overall *statistical significance* (we will get to that at a later point).\n",
    "\n",
    "---"
   ]
  },
  {
   "cell_type": "markdown",
   "metadata": {},
   "source": [
    "## Expectation values, means and other Estimators/statistics\n",
    "\n",
    "The defining characteristic of a random variable is its probability density function. However as a rule the PDF is not known and has to be guessed at with the help of models. However there are a few indicators (or estimators/statistics) that can give you an Idea of how a PDF looks like (without using a histogram) based on a sample drawn form it. These characteristic measures are called **estimators** or **statistics**. An estimator can only be calculated from a Sample containing more than one measurement, without giving garbage results.\n",
    "\n",
    "### The mean estimator/statistic\n",
    "The most well known estimator is probably the mean-value estimator.\n",
    "\n",
    "The mean estimator is defined as:\n",
    "\n",
    "$$ mean(\\{x_i\\}) = \\langle x\\rangle = \\frac{1}{n}\\sum_{i=1}^n x_i$$\n",
    "\n",
    "where n is the size of the sample (the amount of measurements in the sample) and $x_i$ is the value of the i-th measurement. For a random vector this is defined as\n",
    "\n",
    "$$ mean(\\{\\vec{x}_i\\}) = \\langle\\vec{x}\\rangle = \\frac{1}{n} \\sum_{i=1}^n \\vec{x}_i$$\n",
    "\n",
    "So for the random numbers (both for the gaussian and the uniform distribution) we can calculate the mean"
   ]
  },
  {
   "cell_type": "code",
   "execution_count": 74,
   "metadata": {},
   "outputs": [
    {
     "name": "stdout",
     "output_type": "stream",
     "text": [
      "The mean of the normal distribution is: -0.00891992692385321\n",
      "The mean of the uniform distribution in [0, 1): 0.4969981166748284\n"
     ]
    }
   ],
   "source": [
    "# calculate the mean for the sample drawn from the gaussian distribution\n",
    "normal_mean = 1/len(normal_rand_nums) * sum(normal_rand_nums)\n",
    "print(\"The mean of the normal distribution is: {}\".format(normal_mean))\n",
    "\n",
    "# calculate the mean for the sample drawn from the uniform distribution\n",
    "uniform_mean = 1/len(rand_nums) * sum(rand_nums)\n",
    "print(\"The mean of the uniform distribution in [0, 1): {}\".format(uniform_mean))"
   ]
  },
  {
   "cell_type": "markdown",
   "metadata": {},
   "source": [
    "---"
   ]
  },
  {
   "cell_type": "markdown",
   "metadata": {},
   "source": [
    "### Estimators are random variables\n",
    "As the estimator/statistic is a function of a sample drawn from a random variable, it is itself a random variable. This means, that an estimator will vary from sample to sample. As such A sample of estimators can be generated and an estimator can be calculated from that sample (even the same estimator can be calculated on the sample of estimators). This can be done recursively without end (the only problem there is, that to generate a sample of a sample, the amount of measurements that need to be taken grows exponentially with each recursive level. This means that it is unpractical at best to calculate more than an estimator for a sample of samples).\n",
    "So lets try and calculate the mean of means for a uniform distribution."
   ]
  },
  {
   "cell_type": "code",
   "execution_count": 10,
   "metadata": {},
   "outputs": [
    {
     "name": "stdout",
     "output_type": "stream",
     "text": [
      "[0.47781243525246453, 0.46234426580604626, 0.39296673714384067, 0.5303653962565584, 0.40063917442652636, 0.5806647113280826, 0.5650684736362902, 0.5373535061081534, 0.4735646481405034, 0.43183099985891504, 0.5609222811208431, 0.4151842477218578, 0.5219703454693956, 0.4890117508386031, 0.5582699498822603, 0.433752179296516, 0.503466758420625, 0.5169945672419074, 0.6330541884744576, 0.4741319349757669, 0.5992828190959582, 0.48838846418331705, 0.4774121741079808, 0.5459360264897681, 0.540823200071192, 0.532058794338502, 0.5328762554019367, 0.5064329156864403, 0.502784324013972, 0.5264897447122533, 0.3550892179189121, 0.5468931855474266, 0.4090138037599328, 0.3812258288288738, 0.5722828918779901, 0.3455364371020806, 0.5142588544934021, 0.5346841345099851, 0.5190235011153413, 0.5649426533676345, 0.4921197501425646, 0.621603956349009, 0.5961427022273881, 0.44188597069836977, 0.5970402075867833, 0.5121606209277565, 0.5966806453260758, 0.4479673014250084, 0.38174108802357126, 0.40494927536591535, 0.5547999857497148, 0.549714646074273, 0.38436465984133356, 0.5381079139627105, 0.5192885974035225, 0.4629675377544772, 0.607797001713131, 0.5175216331951755, 0.47850311954420083, 0.3870707589955148, 0.45614669296844534, 0.52620695867555, 0.46936081433161325, 0.42916615905295846, 0.5445597561178835, 0.5319797514555727, 0.5824769102219036, 0.5478093398176372, 0.39069956749062457, 0.478483021832239, 0.5401854853916289, 0.5230514956717595, 0.5724986306161716, 0.4770781399056724, 0.5661066185467976, 0.5095027992509965, 0.3805515589864631, 0.4918528640590549, 0.55006325030042, 0.4878153383213991, 0.36199388388982967, 0.4093712934188134, 0.4728729115071742, 0.5630119287715563, 0.5385040494976796, 0.5145502784166954, 0.4979104058810909, 0.6117432284358375, 0.4978320016907266, 0.5582227248313967, 0.4692079984627127, 0.5214444039669995, 0.3917695528142083, 0.5534056441184011, 0.5948205956978556, 0.5130568205704498, 0.4997616879455474, 0.5295822769414621, 0.5684663422393638, 0.4191256529093817]\n",
      "\n",
      "Mean of means: 0.5018947998535098\n"
     ]
    }
   ],
   "source": [
    "# a sample of random numbers of length n can be drawn from a uniform distribution [0,1) with np.random.rand(n)\n",
    "n = 20\n",
    "mean_sample_size = 100\n",
    "sample_of_means = [np.mean(np.random.rand(n)) for i in range(mean_sample_size)]\n",
    "print(sample_of_means)\n",
    "\n",
    "# now calculate the mean of the means\n",
    "mean_of_means = np.mean(sample_of_means)\n",
    "print(\"\\nMean of means: {}\".format(mean_of_means))"
   ]
  },
  {
   "cell_type": "markdown",
   "metadata": {},
   "source": [
    "It is of course also possible to draw a histogram for the sample of means."
   ]
  },
  {
   "cell_type": "code",
   "execution_count": 11,
   "metadata": {},
   "outputs": [
    {
     "data": {
      "image/png": "[encoded data removed]",
      "text/plain": [
       "<Figure size 432x288 with 1 Axes>"
      ]
     },
     "metadata": {},
     "output_type": "display_data"
    }
   ],
   "source": [
    "h, b, p = plt.hist(sample_of_means, bins=10, edgecolor='black')"
   ]
  },
  {
   "cell_type": "markdown",
   "metadata": {},
   "source": [
    "Though with \"only\" 100 values for the mean it is fairly difficult to tell from looking at the histogram, how the means are distributed.\n",
    "To improve the quality of the PDF we can calculate the mean more often, this means that we need to generate n times the amount of random numbers."
   ]
  },
  {
   "cell_type": "code",
   "execution_count": 12,
   "metadata": {},
   "outputs": [
    {
     "name": "stdout",
     "output_type": "stream",
     "text": [
      "mean of mean of means: 0.5003806264178176\n",
      "total amount of random numbers generated: 200000\n"
     ]
    }
   ],
   "source": [
    "# lets track how many numbers are generated in total\n",
    "numbers_generated = 0\n",
    "\n",
    "# definition of the mean\n",
    "def mean(data):\n",
    "    return 1/len(data) * sum(data)\n",
    "\n",
    "# define some functions that calculate the mean and mean of mean and mean of mean of means\n",
    "def generate_mean_from_uniform_sample(n):\n",
    "    global numbers_generated;\n",
    "    numbers_generated = numbers_generated + n\n",
    "    return mean(np.random.rand(n))\n",
    "\n",
    "def generate_sample_of_means(m, n):\n",
    "    return [generate_mean_from_uniform_sample(n) for i in range(m)]\n",
    "\n",
    "def generate_sample_of_mean_of_means(o, m, n):\n",
    "    return [mean(generate_sample_of_means(m, n)) for i in range(o)]\n",
    "\n",
    "mean_of_means_sample_size = 100\n",
    "mean_sample_size = 100\n",
    "sample_size = 20\n",
    "mean_of_means = generate_sample_of_mean_of_means(mean_of_means_sample_size, mean_sample_size, sample_size)\n",
    "print(\"mean of mean of means: {}\".format(mean(mean_of_means)))\n",
    "print(\"total amount of random numbers generated: {}\".format(numbers_generated))"
   ]
  },
  {
   "cell_type": "markdown",
   "metadata": {},
   "source": [
    "So to generate a single mean of means of means 200,000 random numbers have to be generated. So be careful how deep you do that recursion (and check that what you do makes sense.\n",
    "\n",
    "---"
   ]
  },
  {
   "cell_type": "markdown",
   "metadata": {},
   "source": [
    "### The variance Estimator\n",
    "besides the mean of a sample the variance is also a very common metric for distributions. The variance indicates how close the sample values are to the mean. A small variance means that the idividual measurements are close to the mean while a large variance indicates a large distance to the mean.\n",
    "\n",
    "The variance is defined as:\n",
    "\n",
    "$$ \\mathrm{var}(\\{x_i\\}) = \\frac{1}{n} \\sum_{i=0}^n (x_i-\\langle x \\rangle)^2 $$\n",
    "\n",
    "and for vectors\n",
    "\n",
    "$$ \\mathrm{var}(\\{\\vec{x}_i\\}) = \\frac{1}{n} \\sum_{i=0}^n (\\vec{x}_i-\\langle \\vec{x} \\rangle)^2 $$\n",
    "\n",
    "and can also be computed from the measurements in a sample directly (without first calculating the mean) through\n",
    "\n",
    "$$ \\mathrm{var}(\\{x_i\\}) = \\frac{1}{2N^2} \\sum_{i, j=0}^n (x_i - x_j)^2$$\n",
    "\n",
    "also for vectors\n",
    "\n",
    "$$ \\mathrm{var}(\\{\\vec{x}_i\\}) = \\frac{1}{2N^2} \\sum_{i, j=0}^n (\\vec{x}_i - \\vec{x}_j)^2$$\n",
    "\n",
    "The variance can of course also be defined if we don't have a specific sample $\\{\\vec{x}_i\\}$ but also if we have a PDF $p(x)$. In this case the we rely on the previously given definition of the mean of a random variable to calculate it's variance $\\sigma_X^2$.\n",
    "\n",
    "In the next two formulars (and in all following ones) I'll only be writing the vector formulation as the scalar case is simply the vector case wher the vector has length one. To denote a specific value in a measurement vector $\\vec{x}$ I'll write $x_i$. If we take $k$ measurements we produce $k$ measurement vectors $\\vec{x}_j$ when I wan't to denote a specific value in one of these vectors I'll write $(x_i)_j$ which means that I am refering to the i'th scalar in the j'th measurement.\n",
    "\n",
    "$$ \\mathrm{var}(\\vec{X}) = \\sum_{\\vec{x}} (\\vec{x} - \\langle \\vec{X}\\rangle)^2$$ where we sum over all possibilities for x (so $\\forall \\vec{x} \\in S$)\n",
    "\n",
    "We can of course also extend that into the continuous realm with the following expression\n",
    "\n",
    "$$ \\mathrm{var}(\\vec{X}) = \\int_{S_1} ... \\int_{S_n} (x_1 - \\langle X_1\\rangle)^2 ... (x_n - \\langle X_n\\rangle)^2 \\mathrm{d}x_1 ...\\mathrm{d}x_n$$\n",
    "\n",
    "This is essentially a volume integral over the entire subspace that yields a possible experimental outcome.\n",
    "The continuous example only really works, if the pdf is known analytically (either exact or by approximation)."
   ]
  },
  {
   "cell_type": "markdown",
   "metadata": {},
   "source": [
    "So lets give that a spin with the random numbers generated in the histogram example"
   ]
  },
  {
   "cell_type": "code",
   "execution_count": 14,
   "metadata": {},
   "outputs": [
    {
     "name": "stdout",
     "output_type": "stream",
     "text": [
      "Variance calculated with mean: 0.08361814867579008\n",
      "Variance calculated without mean: 0.08361814867578825\n"
     ]
    }
   ],
   "source": [
    "# define the variance incorporating the mean\n",
    "def varm(data):\n",
    "    return 1/len(data) * sum([(val - mean(data))**2 for val in data])\n",
    "\n",
    "# define the variance without the mean\n",
    "def var(data):\n",
    "    distances = np.ravel([[(vali - valj) for valj in data] for vali in data])\n",
    "    return 1/(2*len(data)**2) * sum (distances**2)\n",
    "\n",
    "print(\"Variance calculated with mean: {}\".format(varm(rand_nums)))\n",
    "print(\"Variance calculated without mean: {}\".format(var(rand_nums)))"
   ]
  },
  {
   "cell_type": "markdown",
   "metadata": {},
   "source": [
    "---"
   ]
  },
  {
   "cell_type": "markdown",
   "metadata": {},
   "source": [
    "### The Expectation value as generalisation of the mean\n",
    "\n",
    "For this part let's assume there is a [random variable](https://en.wikipedia.org/wiki/Random_variable) $X$ with the domain $\\mathbb{R}$ (this means that the random variable can take on any value in $\\mathbb{R}$). Let's further assume there is a function $f$ with the [domain](https://en.wikipedia.org/wiki/Function_(mathematics)) $\\mathbb{R}$ and the [codomain](https://en.wikipedia.org/wiki/Function_(mathematics)) $\\mathbb{R}$. Now I'll ask the question what is the mean of $f(X)$?\n",
    "\n",
    "To answer this question we can use the concept of an expectation value to expand the prevoius definitions of the mean and the variance. The Expectation value is (like the mean) the value that has the same probability density to it's left as it has to it's right (in the one dimensional case). The expectation value is defined (in the case of this (contiguous example) as\n",
    "\n",
    "$$\\mathrm{E}(\\vec{X}) = \\int_{S_{X}} f(\\vec{x})p(\\vec{x}) \\mathrm{d}\\vec{x} $$\n",
    "\n",
    "where $p(x)$ is the PDF for $X$ and $f(x)$ is the aforementioned function. In the case of $X$ having a discrete domain (for example $\\mathbb{N}$) the \n",
    "\n",
    "When we set $f(x) = x$ then we naturally get the mean estimator for the sample.\n",
    "\n",
    "Now we can also set that $f(x)$ to any other function of our liking (like for example a function that describes how the\n",
    "directly measured value is translated by the electronics in the experiment into the value that is actually stored in a long term storage (like a disk drive in a data center).\n",
    "\n",
    "So in short the expectation value is the mean value for an arbitrary function that is applied to the actual values transforming them in any way.\n",
    "\n",
    "---"
   ]
  },
  {
   "cell_type": "markdown",
   "metadata": {},
   "source": [
    "### The Variance as a different Expectation value\n",
    "\n",
    "If we now alter the definition of $f(x)$ to something along the line of $f(\\vec{x}) = (\\vec{x} - \\langle\\vec{x}\\rangle)^2$ then we get the Expectation value for the variance. Remember that the variance is a random variable when we look at a set of different samples (or measurement runs) and calculate the variance for each of the samples. That means that the variance itsself has a PDF and we can calculate the expectation value for any random variable which will be the variance of the underlying experiments within some margin of uncertainty.\n",
    "\n",
    "So for continuous values we get:\n",
    "\n",
    "$$ E[var(X)] = \\int_{S_X} (\\vec{x} - \\langle \\vec{x} \\rangle)^2 \\cdot p(\\vec{x}) \\mathrm{d}\\vec{x}$$\n",
    "\n",
    "and for a discrete version\n",
    "\n",
    "$$ E[var(X)] = \\sum_{\\vec{x}} (\\vec{x}_i - \\langle \\vec{x} \\rangle)^2 \\cdot p(\\vec{x}) $$\n",
    "\n",
    "This helps to show that the Expectation value can be calculated for any arbitrary estimator."
   ]
  }
 ],
 "metadata": {
  "kernelspec": {
   "display_name": "Python 3",
   "language": "python",
   "name": "python3"
  },
  "language_info": {
   "codemirror_mode": {
    "name": "ipython",
    "version": 3
   },
   "file_extension": ".py",
   "mimetype": "text/x-python",
   "name": "python",
   "nbconvert_exporter": "python",
   "pygments_lexer": "ipython3",
   "version": "3.7.5"
  }
 },
 "nbformat": 4,
 "nbformat_minor": 4
}
